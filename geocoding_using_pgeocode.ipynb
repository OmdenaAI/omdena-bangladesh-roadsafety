{
  "nbformat": 4,
  "nbformat_minor": 0,
  "metadata": {
    "colab": {
      "name": "geocoding_using_pgeocode.ipynb",
      "provenance": [],
      "collapsed_sections": [],
      "authorship_tag": "ABX9TyOFhrq7yQb3Np/tzlGS52yO",
      "include_colab_link": true
    },
    "kernelspec": {
      "name": "python3",
      "display_name": "Python 3"
    },
    "language_info": {
      "name": "python"
    }
  },
  "cells": [
    {
      "cell_type": "markdown",
      "metadata": {
        "id": "view-in-github",
        "colab_type": "text"
      },
      "source": [
        "<a href=\"https://colab.research.google.com/github/OmdenaAI/omdena-bangladesh-roadsafety/blob/Task-2-Data_preprocessing_and_EDA/geocoding_using_pgeocode.ipynb\" target=\"_parent\"><img src=\"https://colab.research.google.com/assets/colab-badge.svg\" alt=\"Open In Colab\"/></a>"
      ]
    },
    {
      "cell_type": "markdown",
      "metadata": {
        "id": "SU-V1RBpLSQL"
      },
      "source": [
        "#### First, let's import all the required libraries and modules and install geopy to use it. We will geocode our locations using geopy"
      ]
    },
    {
      "cell_type": "code",
      "metadata": {
        "colab": {
          "base_uri": "https://localhost:8080/"
        },
        "id": "w_DzcTVblScx",
        "outputId": "b7524691-c767-43bd-8a44-d53b73a829ab"
      },
      "source": [
        "import pandas as pd\n",
        "pd.set_option('display.max_columns', None)\n",
        "\n",
        "import numpy as np\n",
        "\n",
        "!pip install geopy -U\n",
        "\n",
        "from geopy.geocoders import Nominatim"
      ],
      "execution_count": null,
      "outputs": [
        {
          "output_type": "stream",
          "text": [
            "Collecting geopy\n",
            "\u001b[?25l  Downloading https://files.pythonhosted.org/packages/0c/67/915668d0e286caa21a1da82a85ffe3d20528ec7212777b43ccd027d94023/geopy-2.1.0-py3-none-any.whl (112kB)\n",
            "\r\u001b[K     |███                             | 10kB 18.0MB/s eta 0:00:01\r\u001b[K     |█████▉                          | 20kB 26.2MB/s eta 0:00:01\r\u001b[K     |████████▊                       | 30kB 32.6MB/s eta 0:00:01\r\u001b[K     |███████████▊                    | 40kB 25.7MB/s eta 0:00:01\r\u001b[K     |██████████████▋                 | 51kB 16.1MB/s eta 0:00:01\r\u001b[K     |█████████████████▌              | 61kB 13.5MB/s eta 0:00:01\r\u001b[K     |████████████████████▍           | 71kB 14.9MB/s eta 0:00:01\r\u001b[K     |███████████████████████▍        | 81kB 13.6MB/s eta 0:00:01\r\u001b[K     |██████████████████████████▎     | 92kB 14.1MB/s eta 0:00:01\r\u001b[K     |█████████████████████████████▏  | 102kB 15.3MB/s eta 0:00:01\r\u001b[K     |████████████████████████████████| 112kB 15.3MB/s \n",
            "\u001b[?25hRequirement already satisfied, skipping upgrade: geographiclib<2,>=1.49 in /usr/local/lib/python3.7/dist-packages (from geopy) (1.52)\n",
            "Installing collected packages: geopy\n",
            "  Found existing installation: geopy 1.17.0\n",
            "    Uninstalling geopy-1.17.0:\n",
            "      Successfully uninstalled geopy-1.17.0\n",
            "Successfully installed geopy-2.1.0\n"
          ],
          "name": "stdout"
        }
      ]
    },
    {
      "cell_type": "markdown",
      "metadata": {
        "id": "UR2iCaavLlRR"
      },
      "source": [
        "####Mounting the .csv file with locations from my google drive"
      ]
    },
    {
      "cell_type": "code",
      "metadata": {
        "colab": {
          "base_uri": "https://localhost:8080/"
        },
        "id": "0M4aKTgQlY5L",
        "outputId": "8d73ef26-584c-4d7b-ce9f-c5a3c84d7b54"
      },
      "source": [
        "from google.colab import drive\n",
        "drive.mount('/content/drive/')"
      ],
      "execution_count": null,
      "outputs": [
        {
          "output_type": "stream",
          "text": [
            "Mounted at /content/drive/\n"
          ],
          "name": "stdout"
        }
      ]
    },
    {
      "cell_type": "markdown",
      "metadata": {
        "id": "qEf8QIr4L6_R"
      },
      "source": [
        "####Using pandas to read the csv file"
      ]
    },
    {
      "cell_type": "code",
      "metadata": {
        "id": "on_qbbUkoy25"
      },
      "source": [
        "data= pd.read_csv('/content/drive/MyDrive/locations.csv')"
      ],
      "execution_count": null,
      "outputs": []
    },
    {
      "cell_type": "code",
      "metadata": {
        "colab": {
          "base_uri": "https://localhost:8080/",
          "height": 357
        },
        "id": "Kj08TT8zpIde",
        "outputId": "8abb7bbe-f5ac-40a7-cdbd-8b98e47df19e"
      },
      "source": [
        "data.head(10)"
      ],
      "execution_count": null,
      "outputs": [
        {
          "output_type": "execute_result",
          "data": {
            "text/html": [
              "<div>\n",
              "<style scoped>\n",
              "    .dataframe tbody tr th:only-of-type {\n",
              "        vertical-align: middle;\n",
              "    }\n",
              "\n",
              "    .dataframe tbody tr th {\n",
              "        vertical-align: top;\n",
              "    }\n",
              "\n",
              "    .dataframe thead th {\n",
              "        text-align: right;\n",
              "    }\n",
              "</style>\n",
              "<table border=\"1\" class=\"dataframe\">\n",
              "  <thead>\n",
              "    <tr style=\"text-align: right;\">\n",
              "      <th></th>\n",
              "      <th>Location</th>\n",
              "    </tr>\n",
              "  </thead>\n",
              "  <tbody>\n",
              "    <tr>\n",
              "      <th>0</th>\n",
              "      <td>Madaripur</td>\n",
              "    </tr>\n",
              "    <tr>\n",
              "      <th>1</th>\n",
              "      <td>Satkhira</td>\n",
              "    </tr>\n",
              "    <tr>\n",
              "      <th>2</th>\n",
              "      <td>Cumilla</td>\n",
              "    </tr>\n",
              "    <tr>\n",
              "      <th>3</th>\n",
              "      <td>Jessore</td>\n",
              "    </tr>\n",
              "    <tr>\n",
              "      <th>4</th>\n",
              "      <td>Bhaluka, mymensingh</td>\n",
              "    </tr>\n",
              "    <tr>\n",
              "      <th>5</th>\n",
              "      <td>Ukhia, Cox's Bazar</td>\n",
              "    </tr>\n",
              "    <tr>\n",
              "      <th>6</th>\n",
              "      <td>Ukhia, Cox's Bazar</td>\n",
              "    </tr>\n",
              "    <tr>\n",
              "      <th>7</th>\n",
              "      <td>Mirsarai, Chittagong</td>\n",
              "    </tr>\n",
              "    <tr>\n",
              "      <th>8</th>\n",
              "      <td>Ghorashal-Tongi road,Narsingdi</td>\n",
              "    </tr>\n",
              "    <tr>\n",
              "      <th>9</th>\n",
              "      <td>Shivalaya, Manikganj</td>\n",
              "    </tr>\n",
              "  </tbody>\n",
              "</table>\n",
              "</div>"
            ],
            "text/plain": [
              "                         Location\n",
              "0                       Madaripur\n",
              "1                        Satkhira\n",
              "2                         Cumilla\n",
              "3                         Jessore\n",
              "4             Bhaluka, mymensingh\n",
              "5              Ukhia, Cox's Bazar\n",
              "6              Ukhia, Cox's Bazar\n",
              "7            Mirsarai, Chittagong\n",
              "8  Ghorashal-Tongi road,Narsingdi\n",
              "9            Shivalaya, Manikganj"
            ]
          },
          "metadata": {
            "tags": []
          },
          "execution_count": 4
        }
      ]
    },
    {
      "cell_type": "markdown",
      "metadata": {
        "id": "nl_13NuNL-0q"
      },
      "source": [
        "####Splitting our locations by comma into separate columns, then stripping off the whitespaces and replacing the NaN values with empty string"
      ]
    },
    {
      "cell_type": "code",
      "metadata": {
        "id": "-71AEMxQpKse"
      },
      "source": [
        "data[['loc1','loc2','loc3']]=data['Location'].str.split(',', expand= True)"
      ],
      "execution_count": null,
      "outputs": []
    },
    {
      "cell_type": "code",
      "metadata": {
        "colab": {
          "base_uri": "https://localhost:8080/",
          "height": 357
        },
        "id": "fKdVyRYOpNFd",
        "outputId": "9b8c1388-7768-47da-884b-bab9d37586b7"
      },
      "source": [
        "data= data.applymap(lambda x: x.strip() if isinstance(x,str) else x)\n",
        "data = data.replace(np.nan, '', regex=True)\n",
        "data.head(10)"
      ],
      "execution_count": null,
      "outputs": [
        {
          "output_type": "execute_result",
          "data": {
            "text/html": [
              "<div>\n",
              "<style scoped>\n",
              "    .dataframe tbody tr th:only-of-type {\n",
              "        vertical-align: middle;\n",
              "    }\n",
              "\n",
              "    .dataframe tbody tr th {\n",
              "        vertical-align: top;\n",
              "    }\n",
              "\n",
              "    .dataframe thead th {\n",
              "        text-align: right;\n",
              "    }\n",
              "</style>\n",
              "<table border=\"1\" class=\"dataframe\">\n",
              "  <thead>\n",
              "    <tr style=\"text-align: right;\">\n",
              "      <th></th>\n",
              "      <th>Location</th>\n",
              "      <th>loc1</th>\n",
              "      <th>loc2</th>\n",
              "      <th>loc3</th>\n",
              "    </tr>\n",
              "  </thead>\n",
              "  <tbody>\n",
              "    <tr>\n",
              "      <th>0</th>\n",
              "      <td>Madaripur</td>\n",
              "      <td>Madaripur</td>\n",
              "      <td></td>\n",
              "      <td></td>\n",
              "    </tr>\n",
              "    <tr>\n",
              "      <th>1</th>\n",
              "      <td>Satkhira</td>\n",
              "      <td>Satkhira</td>\n",
              "      <td></td>\n",
              "      <td></td>\n",
              "    </tr>\n",
              "    <tr>\n",
              "      <th>2</th>\n",
              "      <td>Cumilla</td>\n",
              "      <td>Cumilla</td>\n",
              "      <td></td>\n",
              "      <td></td>\n",
              "    </tr>\n",
              "    <tr>\n",
              "      <th>3</th>\n",
              "      <td>Jessore</td>\n",
              "      <td>Jessore</td>\n",
              "      <td></td>\n",
              "      <td></td>\n",
              "    </tr>\n",
              "    <tr>\n",
              "      <th>4</th>\n",
              "      <td>Bhaluka, mymensingh</td>\n",
              "      <td>Bhaluka</td>\n",
              "      <td>mymensingh</td>\n",
              "      <td></td>\n",
              "    </tr>\n",
              "    <tr>\n",
              "      <th>5</th>\n",
              "      <td>Ukhia, Cox's Bazar</td>\n",
              "      <td>Ukhia</td>\n",
              "      <td>Cox's Bazar</td>\n",
              "      <td></td>\n",
              "    </tr>\n",
              "    <tr>\n",
              "      <th>6</th>\n",
              "      <td>Ukhia, Cox's Bazar</td>\n",
              "      <td>Ukhia</td>\n",
              "      <td>Cox's Bazar</td>\n",
              "      <td></td>\n",
              "    </tr>\n",
              "    <tr>\n",
              "      <th>7</th>\n",
              "      <td>Mirsarai, Chittagong</td>\n",
              "      <td>Mirsarai</td>\n",
              "      <td>Chittagong</td>\n",
              "      <td></td>\n",
              "    </tr>\n",
              "    <tr>\n",
              "      <th>8</th>\n",
              "      <td>Ghorashal-Tongi road,Narsingdi</td>\n",
              "      <td>Ghorashal-Tongi road</td>\n",
              "      <td>Narsingdi</td>\n",
              "      <td></td>\n",
              "    </tr>\n",
              "    <tr>\n",
              "      <th>9</th>\n",
              "      <td>Shivalaya, Manikganj</td>\n",
              "      <td>Shivalaya</td>\n",
              "      <td>Manikganj</td>\n",
              "      <td></td>\n",
              "    </tr>\n",
              "  </tbody>\n",
              "</table>\n",
              "</div>"
            ],
            "text/plain": [
              "                         Location                  loc1         loc2 loc3\n",
              "0                       Madaripur             Madaripur                  \n",
              "1                        Satkhira              Satkhira                  \n",
              "2                         Cumilla               Cumilla                  \n",
              "3                         Jessore               Jessore                  \n",
              "4             Bhaluka, mymensingh               Bhaluka   mymensingh     \n",
              "5              Ukhia, Cox's Bazar                 Ukhia  Cox's Bazar     \n",
              "6              Ukhia, Cox's Bazar                 Ukhia  Cox's Bazar     \n",
              "7            Mirsarai, Chittagong              Mirsarai   Chittagong     \n",
              "8  Ghorashal-Tongi road,Narsingdi  Ghorashal-Tongi road    Narsingdi     \n",
              "9            Shivalaya, Manikganj             Shivalaya    Manikganj     "
            ]
          },
          "metadata": {
            "tags": []
          },
          "execution_count": 6
        }
      ]
    },
    {
      "cell_type": "markdown",
      "metadata": {
        "id": "GniZ-CfRMNZL"
      },
      "source": [
        "####Sample example for how to get geocodes using geopy"
      ]
    },
    {
      "cell_type": "code",
      "metadata": {
        "colab": {
          "base_uri": "https://localhost:8080/"
        },
        "id": "uVujFoTvpPDm",
        "outputId": "0e7fc3ae-34ed-40ef-c98b-df0685019612"
      },
      "source": [
        "#Sample example with geopy\n",
        "geolocator= Nominatim(user_agent=\"new_application\")\n",
        "location = geolocator.geocode(f\"Taltola\tSatkhira Bangladesh\")\n",
        "location.latitude, location.longitude"
      ],
      "execution_count": null,
      "outputs": [
        {
          "output_type": "execute_result",
          "data": {
            "text/plain": [
              "(22.7166509, 89.0749857)"
            ]
          },
          "metadata": {
            "tags": []
          },
          "execution_count": 7
        }
      ]
    },
    {
      "cell_type": "markdown",
      "metadata": {
        "id": "7Rnwgt_LMZBp"
      },
      "source": [
        "####Making a function for using geopy for getting geocodes"
      ]
    },
    {
      "cell_type": "code",
      "metadata": {
        "id": "1DuikcjI1ABS"
      },
      "source": [
        "def geocoding(query):\n",
        "  geolocator= Nominatim(user_agent=\"new_application\")\n",
        "  location = geolocator.geocode(query)\n",
        "  if location!=None:\n",
        "    dic={'latitudes':location.latitude, 'longitudes':location.longitude}\n",
        "    return dic"
      ],
      "execution_count": null,
      "outputs": []
    },
    {
      "cell_type": "markdown",
      "metadata": {
        "id": "wekcIbCAMj56"
      },
      "source": [
        "####As we have three columns separated, if we do not get any result using all three, then we will look for results with the last two, if still we don't get anything, then we will look for results for the last column only. We are adding 'Bangladesh' at the end for searching for locations only in Bangladesh"
      ]
    },
    {
      "cell_type": "code",
      "metadata": {
        "id": "DZ99BcAf1Vrg"
      },
      "source": [
        "def queries():\n",
        "  result=[]\n",
        "  for i in range(data.shape[0]):\n",
        "    query1= data['loc1'][i]+' '+data['loc2'][i]+' '+data['loc3'][i]+' '+'Bangladesh'\n",
        "    query2= data['loc2'][i]+' '+data['loc3'][i]+' '+'Bangladesh'\n",
        "    query3= data['loc3'][i]+' '+'Bangladesh'\n",
        "    codes= geocoding(query1)\n",
        "    if codes==None:\n",
        "      codes=geocoding(query2)\n",
        "      if codes==None:\n",
        "        codes= geocoding(query3)\n",
        "        if codes==None:\n",
        "          dic={'latitudes':'Not found', 'longitudes':'Not found'}\n",
        "          result.append(dic)  \n",
        "        else:\n",
        "          result.append(codes)\n",
        "      else:\n",
        "        result.append(codes)\n",
        "    else:\n",
        "      result.append(codes)\n",
        "  return result"
      ],
      "execution_count": null,
      "outputs": []
    },
    {
      "cell_type": "code",
      "metadata": {
        "id": "sO8G6zqwFUyF"
      },
      "source": [
        "geocodes= queries()"
      ],
      "execution_count": null,
      "outputs": []
    },
    {
      "cell_type": "code",
      "metadata": {
        "id": "7tWmFqBNFk03"
      },
      "source": [
        "data= pd.concat([data,pd.DataFrame(geocodes)], axis=1)"
      ],
      "execution_count": null,
      "outputs": []
    },
    {
      "cell_type": "markdown",
      "metadata": {
        "id": "CgCvRn-OM_ja"
      },
      "source": [
        "####Dropping the rows for which we did not receive any geocode"
      ]
    },
    {
      "cell_type": "code",
      "metadata": {
        "id": "rgL3YBRsOWJ3"
      },
      "source": [
        "data= data[data['latitudes']!='Not found']"
      ],
      "execution_count": null,
      "outputs": []
    },
    {
      "cell_type": "code",
      "metadata": {
        "colab": {
          "base_uri": "https://localhost:8080/",
          "height": 417
        },
        "id": "IexKqu7MrDd6",
        "outputId": "ce9b33f0-77a2-430a-c5a3-c4d7476c6a57"
      },
      "source": [
        "data"
      ],
      "execution_count": null,
      "outputs": [
        {
          "output_type": "execute_result",
          "data": {
            "text/html": [
              "<div>\n",
              "<style scoped>\n",
              "    .dataframe tbody tr th:only-of-type {\n",
              "        vertical-align: middle;\n",
              "    }\n",
              "\n",
              "    .dataframe tbody tr th {\n",
              "        vertical-align: top;\n",
              "    }\n",
              "\n",
              "    .dataframe thead th {\n",
              "        text-align: right;\n",
              "    }\n",
              "</style>\n",
              "<table border=\"1\" class=\"dataframe\">\n",
              "  <thead>\n",
              "    <tr style=\"text-align: right;\">\n",
              "      <th></th>\n",
              "      <th>Location</th>\n",
              "      <th>loc1</th>\n",
              "      <th>loc2</th>\n",
              "      <th>loc3</th>\n",
              "      <th>latitudes</th>\n",
              "      <th>longitudes</th>\n",
              "    </tr>\n",
              "  </thead>\n",
              "  <tbody>\n",
              "    <tr>\n",
              "      <th>0</th>\n",
              "      <td>Madaripur</td>\n",
              "      <td>Madaripur</td>\n",
              "      <td></td>\n",
              "      <td></td>\n",
              "      <td>23.167547</td>\n",
              "      <td>90.204973</td>\n",
              "    </tr>\n",
              "    <tr>\n",
              "      <th>1</th>\n",
              "      <td>Satkhira</td>\n",
              "      <td>Satkhira</td>\n",
              "      <td></td>\n",
              "      <td></td>\n",
              "      <td>22.716651</td>\n",
              "      <td>89.074986</td>\n",
              "    </tr>\n",
              "    <tr>\n",
              "      <th>2</th>\n",
              "      <td>Cumilla</td>\n",
              "      <td>Cumilla</td>\n",
              "      <td></td>\n",
              "      <td></td>\n",
              "      <td>23.461061</td>\n",
              "      <td>91.180875</td>\n",
              "    </tr>\n",
              "    <tr>\n",
              "      <th>3</th>\n",
              "      <td>Jessore</td>\n",
              "      <td>Jessore</td>\n",
              "      <td></td>\n",
              "      <td></td>\n",
              "      <td>23.084244</td>\n",
              "      <td>89.124694</td>\n",
              "    </tr>\n",
              "    <tr>\n",
              "      <th>4</th>\n",
              "      <td>Bhaluka, mymensingh</td>\n",
              "      <td>Bhaluka</td>\n",
              "      <td>mymensingh</td>\n",
              "      <td></td>\n",
              "      <td>24.404455</td>\n",
              "      <td>90.386354</td>\n",
              "    </tr>\n",
              "    <tr>\n",
              "      <th>...</th>\n",
              "      <td>...</td>\n",
              "      <td>...</td>\n",
              "      <td>...</td>\n",
              "      <td>...</td>\n",
              "      <td>...</td>\n",
              "      <td>...</td>\n",
              "    </tr>\n",
              "    <tr>\n",
              "      <th>262</th>\n",
              "      <td>Mohammadpur, Magura</td>\n",
              "      <td>Mohammadpur</td>\n",
              "      <td>Magura</td>\n",
              "      <td></td>\n",
              "      <td>23.440030</td>\n",
              "      <td>89.510217</td>\n",
              "    </tr>\n",
              "    <tr>\n",
              "      <th>263</th>\n",
              "      <td>Kutukchari, Rangamati</td>\n",
              "      <td>Kutukchari</td>\n",
              "      <td>Rangamati</td>\n",
              "      <td></td>\n",
              "      <td>22.817729</td>\n",
              "      <td>92.219707</td>\n",
              "    </tr>\n",
              "    <tr>\n",
              "      <th>264</th>\n",
              "      <td>Faridganj, Chandpur</td>\n",
              "      <td>Faridganj</td>\n",
              "      <td>Chandpur</td>\n",
              "      <td></td>\n",
              "      <td>23.128294</td>\n",
              "      <td>90.754796</td>\n",
              "    </tr>\n",
              "    <tr>\n",
              "      <th>265</th>\n",
              "      <td>Jhikargacha, Jashore</td>\n",
              "      <td>Jhikargacha</td>\n",
              "      <td>Jashore</td>\n",
              "      <td></td>\n",
              "      <td>23.104114</td>\n",
              "      <td>89.107623</td>\n",
              "    </tr>\n",
              "    <tr>\n",
              "      <th>266</th>\n",
              "      <td>Godagai,Rajshahi</td>\n",
              "      <td>Godagai</td>\n",
              "      <td>Rajshahi</td>\n",
              "      <td></td>\n",
              "      <td>24.461151</td>\n",
              "      <td>88.688870</td>\n",
              "    </tr>\n",
              "  </tbody>\n",
              "</table>\n",
              "<p>267 rows × 6 columns</p>\n",
              "</div>"
            ],
            "text/plain": [
              "                  Location         loc1        loc2 loc3  latitudes  \\\n",
              "0                Madaripur    Madaripur                   23.167547   \n",
              "1                 Satkhira     Satkhira                   22.716651   \n",
              "2                  Cumilla      Cumilla                   23.461061   \n",
              "3                  Jessore      Jessore                   23.084244   \n",
              "4      Bhaluka, mymensingh      Bhaluka  mymensingh       24.404455   \n",
              "..                     ...          ...         ...  ...        ...   \n",
              "262    Mohammadpur, Magura  Mohammadpur      Magura       23.440030   \n",
              "263  Kutukchari, Rangamati   Kutukchari   Rangamati       22.817729   \n",
              "264    Faridganj, Chandpur    Faridganj    Chandpur       23.128294   \n",
              "265   Jhikargacha, Jashore  Jhikargacha     Jashore       23.104114   \n",
              "266       Godagai,Rajshahi      Godagai    Rajshahi       24.461151   \n",
              "\n",
              "     longitudes  \n",
              "0     90.204973  \n",
              "1     89.074986  \n",
              "2     91.180875  \n",
              "3     89.124694  \n",
              "4     90.386354  \n",
              "..          ...  \n",
              "262   89.510217  \n",
              "263   92.219707  \n",
              "264   90.754796  \n",
              "265   89.107623  \n",
              "266   88.688870  \n",
              "\n",
              "[267 rows x 6 columns]"
            ]
          },
          "metadata": {
            "tags": []
          },
          "execution_count": 13
        }
      ]
    },
    {
      "cell_type": "markdown",
      "metadata": {
        "id": "f5yqDzC1NGXQ"
      },
      "source": [
        "####Exporting the .csv file to local machine"
      ]
    },
    {
      "cell_type": "code",
      "metadata": {
        "colab": {
          "base_uri": "https://localhost:8080/",
          "height": 17
        },
        "id": "Z4bVuJAPrVKh",
        "outputId": "8647dbf1-cf56-4a04-a0b8-02f2607812e4"
      },
      "source": [
        "from google.colab import files\n",
        "data.to_csv('Geocodes_for_heatmap.csv', encoding='utf-8', index= False)\n",
        "files.download(\"Geocodes_for_heatmap.csv\")"
      ],
      "execution_count": null,
      "outputs": [
        {
          "output_type": "display_data",
          "data": {
            "application/javascript": [
              "\n",
              "    async function download(id, filename, size) {\n",
              "      if (!google.colab.kernel.accessAllowed) {\n",
              "        return;\n",
              "      }\n",
              "      const div = document.createElement('div');\n",
              "      const label = document.createElement('label');\n",
              "      label.textContent = `Downloading \"${filename}\": `;\n",
              "      div.appendChild(label);\n",
              "      const progress = document.createElement('progress');\n",
              "      progress.max = size;\n",
              "      div.appendChild(progress);\n",
              "      document.body.appendChild(div);\n",
              "\n",
              "      const buffers = [];\n",
              "      let downloaded = 0;\n",
              "\n",
              "      const channel = await google.colab.kernel.comms.open(id);\n",
              "      // Send a message to notify the kernel that we're ready.\n",
              "      channel.send({})\n",
              "\n",
              "      for await (const message of channel.messages) {\n",
              "        // Send a message to notify the kernel that we're ready.\n",
              "        channel.send({})\n",
              "        if (message.buffers) {\n",
              "          for (const buffer of message.buffers) {\n",
              "            buffers.push(buffer);\n",
              "            downloaded += buffer.byteLength;\n",
              "            progress.value = downloaded;\n",
              "          }\n",
              "        }\n",
              "      }\n",
              "      const blob = new Blob(buffers, {type: 'application/binary'});\n",
              "      const a = document.createElement('a');\n",
              "      a.href = window.URL.createObjectURL(blob);\n",
              "      a.download = filename;\n",
              "      div.appendChild(a);\n",
              "      a.click();\n",
              "      div.remove();\n",
              "    }\n",
              "  "
            ],
            "text/plain": [
              "<IPython.core.display.Javascript object>"
            ]
          },
          "metadata": {
            "tags": []
          }
        },
        {
          "output_type": "display_data",
          "data": {
            "application/javascript": [
              "download(\"download_a43c2067-30b0-4668-9366-f112fce4a723\", \"Geocodes_for_heatmap.csv\", 17562)"
            ],
            "text/plain": [
              "<IPython.core.display.Javascript object>"
            ]
          },
          "metadata": {
            "tags": []
          }
        }
      ]
    },
    {
      "cell_type": "markdown",
      "metadata": {
        "id": "fbnUROLANoV4"
      },
      "source": [
        "####Now I will use these geocodes to make a heatmap using mapbox since mapbox doesn't require any kind of API keys"
      ]
    }
  ]
}